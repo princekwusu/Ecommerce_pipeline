{
 "cells": [
  {
   "cell_type": "code",
   "execution_count": 3,
   "metadata": {},
   "outputs": [],
   "source": [
    "import pandas as pd \n"
   ]
  },
  {
   "cell_type": "code",
   "execution_count": 24,
   "metadata": {},
   "outputs": [],
   "source": [
    "#market 2\n",
    "c_= pd.read_json('raw_data/Market 2 Customers.json')\n",
    "d_= pd.read_csv('raw_data/Market 2 Deliveries.csv')\n",
    "o_= pd.read_csv('raw_data/Market 2 Orders.csv')"
   ]
  },
  {
   "cell_type": "code",
   "execution_count": 25,
   "metadata": {},
   "outputs": [],
   "source": [
    "c_\n",
    "c_['Created At'] = pd.to_datetime(c_['Created At'])\n",
    "\n",
    "c_['Date_Created'] = c_['Created At'].dt.date\n",
    "c_['Day_Created'] = c_['Created At'].dt.day_name()\n",
    "c_['Month_Created'] = c_['Created At'].dt.month_name()\n",
    "c_['Year_Created'] = c_['Created At'].dt.year\n",
    "c_['Time_Created'] = c_['Created At'].dt.strftime('%I:%M:%S %p')\n",
    "\n",
    "c_= c_.drop('Created At',axis=1)"
   ]
  },
  {
   "cell_type": "code",
   "execution_count": 26,
   "metadata": {},
   "outputs": [
    {
     "name": "stdout",
     "output_type": "stream",
     "text": [
      "<class 'pandas.core.frame.DataFrame'>\n",
      "RangeIndex: 8019 entries, 0 to 8018\n",
      "Data columns (total 29 columns):\n",
      " #   Column                 Non-Null Count  Dtype  \n",
      "---  ------                 --------------  -----  \n",
      " 0   Task_ID                8019 non-null   int64  \n",
      " 1   Order_ID               8019 non-null   object \n",
      " 2   Relationship           8019 non-null   float64\n",
      " 3   Team_Name              8019 non-null   object \n",
      " 4   Task_Type              8019 non-null   object \n",
      " 5   Notes                  6 non-null      object \n",
      " 6   Agent_ID               8019 non-null   object \n",
      " 7   Distance(m)            8019 non-null   object \n",
      " 8   Total_Time_Taken(min)  8019 non-null   object \n",
      " 9   Task_Status            8019 non-null   object \n",
      " 10  Ref_Images             8019 non-null   object \n",
      " 11  Rating                 8019 non-null   int64  \n",
      " 12  Review                 8011 non-null   object \n",
      " 13  Latitude               8019 non-null   float64\n",
      " 14  Longitude              8019 non-null   float64\n",
      " 15  Tags                   0 non-null      float64\n",
      " 16  Promo_Applied          8019 non-null   object \n",
      " 17  Custom_Template_ID     8019 non-null   object \n",
      " 18  Task_Details_QTY       8019 non-null   object \n",
      " 19  Task_Details_AMOUNT    8019 non-null   object \n",
      " 20  Special_Instructions   8018 non-null   object \n",
      " 21  Tip                    8019 non-null   object \n",
      " 22  Delivery_Charges       8019 non-null   object \n",
      " 23  Discount               8019 non-null   object \n",
      " 24  Subtotal               8019 non-null   object \n",
      " 25  Payment_Type           8019 non-null   object \n",
      " 26  Task_Category          8019 non-null   object \n",
      " 27  Earning                8019 non-null   object \n",
      " 28  Pricing                8019 non-null   object \n",
      "dtypes: float64(4), int64(2), object(23)\n",
      "memory usage: 1.8+ MB\n"
     ]
    }
   ],
   "source": [
    "d_.isnull().sum()\n",
    "d_.info()\n",
    "d_.drop(columns=['Tags','Notes'], inplace=True)\n",
    "d_['Order_ID']\n",
    "# Remove 'YR-' and ',0' from the values in the 'Order_ID' column\n",
    "d_['Order_ID'] = d_['Order_ID'].str.replace('YR-', '').str.replace(',0', '')\n",
    "d_['Order_ID'] = d_['Order_ID'].astype(int)\n",
    "\n"
   ]
  },
  {
   "cell_type": "code",
   "execution_count": 27,
   "metadata": {},
   "outputs": [
    {
     "data": {
      "text/plain": [
       "0       11262518\n",
       "1       11262518\n",
       "2       11261796\n",
       "3       11261796\n",
       "4       11261341\n",
       "          ...   \n",
       "1424    10422797\n",
       "1425    10422797\n",
       "1426    10422634\n",
       "1427    10422279\n",
       "1428    10416692\n",
       "Name: Order_ID, Length: 1429, dtype: int32"
      ]
     },
     "execution_count": 27,
     "metadata": {},
     "output_type": "execute_result"
    }
   ],
   "source": [
    "o_\n",
    "o_['Customer ID']\n",
    "o_.isnull().sum()\n",
    "o_.columns[o_.isnull().any()]\n",
    "o_.drop(columns=['Cancellation Reason','Commission Payout Status','Commission Amount',\n",
    "                       'Merchant Earning','Reviews','Ratings','Promo Code','Transaction Status','Customization Option','Customization Group'], inplace=True)\n",
    "\n",
    "# Convert the 'Order_ID' column to integers, which will automatically remove the '.0' part\n",
    "o_['Order ID'] = o_['Order ID'].astype(str)\n",
    "# Remove the '0' from the end of each string in the 'Order_ID' column\n",
    "o_['Order ID'] = o_['Order ID'].str.rstrip('.0')\n",
    "o_['Order ID'] = o_['Order ID'].astype(int)\n",
    "o_['Order ID']\n",
    "\n",
    "#change Order ID to Order_ID\n",
    "o_.rename(columns={'Order ID': 'Order_ID'}, inplace=True)\n",
    "o_['Order_ID']"
   ]
  },
  {
   "cell_type": "code",
   "execution_count": 28,
   "metadata": {},
   "outputs": [],
   "source": [
    "new_datarr = pd.merge(c_, o_, on='Customer ID', how = 'outer')"
   ]
  },
  {
   "cell_type": "code",
   "execution_count": 30,
   "metadata": {},
   "outputs": [],
   "source": [
    "#new_data.info()\n",
    "#new_data['Order_ID']\n",
    "new_datarr = pd.merge(new_datarr, d_, on='Order_ID', how='outer')\n"
   ]
  },
  {
   "cell_type": "code",
   "execution_count": 127,
   "metadata": {},
   "outputs": [],
   "source": [
    "new_datarr.to_csv('transformed_data/market2_data.csv', index = False)"
   ]
  },
  {
   "cell_type": "code",
   "execution_count": null,
   "metadata": {},
   "outputs": [],
   "source": []
  },
  {
   "cell_type": "code",
   "execution_count": 31,
   "metadata": {},
   "outputs": [
    {
     "name": "stdout",
     "output_type": "stream",
     "text": [
      "No duplicate columns found.\n"
     ]
    }
   ],
   "source": [
    "\n",
    "\n",
    "# Check for duplicate column names\n",
    "duplicate_columns = new_datarr.columns[new_datarr.columns.duplicated()]\n",
    "if duplicate_columns.any():\n",
    "    print(\"Duplicate columns found:\", duplicate_columns)\n",
    "else:\n",
    "    print(\"No duplicate columns found.\")\n"
   ]
  },
  {
   "cell_type": "code",
   "execution_count": 4,
   "metadata": {},
   "outputs": [
    {
     "name": "stderr",
     "output_type": "stream",
     "text": [
      "C:\\Users\\P R Y N S\\AppData\\Local\\Temp\\ipykernel_13796\\1314186209.py:2: DtypeWarning: Columns (12,14,16,19,30,31) have mixed types. Specify dtype option on import or set low_memory=False.\n",
      "  m1_deliveries = pd.read_csv('raw_data/Market 1 Deliveries.csv')\n"
     ]
    }
   ],
   "source": [
    "m1_customers = pd.read_json('raw_data/Market 1 Customers.json')\n",
    "m1_deliveries = pd.read_csv('raw_data/Market 1 Deliveries.csv')\n",
    "m1_orders = pd.read_csv('raw_data/Market 1 Orders.csv')"
   ]
  },
  {
   "cell_type": "code",
   "execution_count": 5,
   "metadata": {},
   "outputs": [],
   "source": [
    "m1_customers.drop(columns=['Number of employees'], inplace=True)\n",
    "m1_customers['Created At'] = pd.to_datetime(m1_customers['Created At'])\n",
    "\n",
    "# Extract components\n",
    "m1_customers['Date_Created'] = m1_customers['Created At'].dt.date\n",
    "m1_customers['Day_Created'] = m1_customers['Created At'].dt.day_name()\n",
    "m1_customers['Month Created'] = m1_customers['Created At'].dt.month_name()\n",
    "m1_customers['Year_Created'] = m1_customers['Created At'].dt.year\n",
    "m1_customers['Time-Created'] = m1_customers['Created At'].dt.strftime('%I:%M:%S %p')\n",
    "\n",
    "\n",
    "m1_customers = m1_customers.drop('Created At',axis=1)"
   ]
  },
  {
   "cell_type": "code",
   "execution_count": 10,
   "metadata": {},
   "outputs": [
    {
     "data": {
      "text/plain": [
       "0        10691280\n",
       "1        10691280\n",
       "2         8221753\n",
       "3         8133470\n",
       "4         8133470\n",
       "           ...   \n",
       "44978     9891023\n",
       "44979     9890869\n",
       "44980     9890869\n",
       "44981     9890869\n",
       "44982     9890869\n",
       "Name: Order_ID, Length: 44983, dtype: object"
      ]
     },
     "execution_count": 10,
     "metadata": {},
     "output_type": "execute_result"
    }
   ],
   "source": [
    "m1_deliveries.drop(columns=['Unnamed: 30','Unnamed: 31'], inplace=True)\n",
    "m1_deliveries.drop(columns=['Tags'], inplace=True)\n",
    "\n",
    "m1_deliveries['Order_ID'] = m1_deliveries['Order_ID'].str.replace('YR-', '').str.replace(',0', '')\n",
    "m1_deliveries['Order_ID']"
   ]
  },
  {
   "cell_type": "code",
   "execution_count": 12,
   "metadata": {},
   "outputs": [
    {
     "data": {
      "text/plain": [
       "0        11265015\n",
       "1        11264651\n",
       "2        11264651\n",
       "3        11264651\n",
       "4        11264651\n",
       "           ...   \n",
       "12237    10387712\n",
       "12238    10387712\n",
       "12239    10387273\n",
       "12240    10387273\n",
       "12241    10387273\n",
       "Name: Order_ID, Length: 12242, dtype: int32"
      ]
     },
     "execution_count": 12,
     "metadata": {},
     "output_type": "execute_result"
    }
   ],
   "source": [
    "m1_orders.drop(columns=['Cancellation Reason','Commission Payout Status','Commission Amount',\n",
    "                       'Merchant Earning','Reviews','Ratings','Promo Code','Transaction Status','Customization Option','Customization Group'], inplace=True)\n",
    "\n",
    "m1_orders['Order ID'] = m1_orders['Order ID'].astype(str)\n",
    "\n",
    "m1_orders['Order ID'] = m1_orders['Order ID'].str.rstrip('.0')\n",
    "\n",
    "m1_orders['Order ID'] = m1_orders['Order ID'].astype(int)\n",
    "\n",
    "m1_orders.rename(columns={'Order ID': 'Order_ID'}, inplace=True)\n",
    "m1_orders['Order_ID']"
   ]
  },
  {
   "cell_type": "code",
   "execution_count": 19,
   "metadata": {},
   "outputs": [],
   "source": [
    "new_data = pd.merge(m1_customers, m1_orders, on='Customer ID', how = 'outer')\n",
    "import numpy as np\n",
    "new_data['Order_ID'] = new_data['Order_ID'].fillna('').astype(str).str.rstrip('.0')\n",
    "new_data['Order_ID'] = new_data['Order_ID'].replace('', np.nan)\n",
    "\n",
    "\n",
    "new_data = pd.merge(new_data, m1_deliveries, on='Order_ID', how='outer')"
   ]
  },
  {
   "cell_type": "code",
   "execution_count": 20,
   "metadata": {},
   "outputs": [],
   "source": [
    "new_data.to_csv('transformed_data/market1_data.csv', index=False)"
   ]
  },
  {
   "cell_type": "code",
   "execution_count": null,
   "metadata": {},
   "outputs": [
    {
     "ename": "",
     "evalue": "",
     "output_type": "error",
     "traceback": [
      "\u001b[1;31mFailed to start the Kernel. \n",
      "\u001b[1;31mUnable to start Kernel 'Python 3.10.11' due to a timeout waiting for the ports to get used. \n",
      "\u001b[1;31mView Jupyter <a href='command:jupyter.viewOutput'>log</a> for further details."
     ]
    }
   ],
   "source": [
    "new_data.columns()"
   ]
  },
  {
   "cell_type": "code",
   "execution_count": 22,
   "metadata": {},
   "outputs": [
    {
     "name": "stdout",
     "output_type": "stream",
     "text": [
      "No duplicate columns found.\n"
     ]
    }
   ],
   "source": [
    "\n",
    "\n",
    "# Check for duplicate column names\n",
    "duplicate_columns = new_data.columns[new_data.columns.duplicated()]\n",
    "if duplicate_columns.any():\n",
    "    print(\"Duplicate columns found:\", duplicate_columns)\n",
    "else:\n",
    "    print(\"No duplicate columns found.\")\n"
   ]
  },
  {
   "cell_type": "code",
   "execution_count": 32,
   "metadata": {},
   "outputs": [
    {
     "name": "stdout",
     "output_type": "stream",
     "text": [
      "The column names are different.\n",
      "The number of columns is different.\n"
     ]
    }
   ],
   "source": [
    "if new_data.columns.equals(new_datarr.columns):\n",
    "    print(\"The column names are the same.\")\n",
    "else:\n",
    "    print(\"The column names are different.\")\n",
    "\n",
    "if len(new_data.columns) == len(new_datarr.columns):\n",
    "    print(\"The number of columns is the same.\")\n",
    "else:\n",
    "    print(\"The number of columns is different.\")"
   ]
  },
  {
   "cell_type": "code",
   "execution_count": null,
   "metadata": {},
   "outputs": [],
   "source": []
  }
 ],
 "metadata": {
  "kernelspec": {
   "display_name": "Python 3",
   "language": "python",
   "name": "python3"
  },
  "language_info": {
   "codemirror_mode": {
    "name": "ipython",
    "version": 3
   },
   "file_extension": ".py",
   "mimetype": "text/x-python",
   "name": "python",
   "nbconvert_exporter": "python",
   "pygments_lexer": "ipython3",
   "version": "3.10.10"
  }
 },
 "nbformat": 4,
 "nbformat_minor": 2
}
